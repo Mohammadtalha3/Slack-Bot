{
 "cells": [
  {
   "cell_type": "code",
   "execution_count": null,
   "id": "0b656dca-6881-45e8-aa6d-c6d78685cffd",
   "metadata": {},
   "outputs": [
    {
     "name": "stdout",
     "output_type": "stream",
     "text": [
      "Requirement already satisfied: llama-index in d:\\slack-bot\\venv\\lib\\site-packages (0.11.17)\n",
      "Requirement already satisfied: llama-index-agent-openai<0.4.0,>=0.3.4 in d:\\slack-bot\\venv\\lib\\site-packages (from llama-index) (0.3.4)\n",
      "Requirement already satisfied: llama-index-cli<0.4.0,>=0.3.1 in d:\\slack-bot\\venv\\lib\\site-packages (from llama-index) (0.3.1)\n",
      "Requirement already satisfied: llama-index-core<0.12.0,>=0.11.17 in d:\\slack-bot\\venv\\lib\\site-packages (from llama-index) (0.11.17)\n",
      "Requirement already satisfied: llama-index-embeddings-openai<0.3.0,>=0.2.4 in d:\\slack-bot\\venv\\lib\\site-packages (from llama-index) (0.2.5)\n",
      "Requirement already satisfied: llama-index-indices-managed-llama-cloud>=0.3.0 in d:\\slack-bot\\venv\\lib\\site-packages (from llama-index) (0.4.0)\n",
      "Requirement already satisfied: llama-index-legacy<0.10.0,>=0.9.48 in d:\\slack-bot\\venv\\lib\\site-packages (from llama-index) (0.9.48.post3)\n",
      "Requirement already satisfied: llama-index-llms-openai<0.3.0,>=0.2.10 in d:\\slack-bot\\venv\\lib\\site-packages (from llama-index) (0.2.13)\n",
      "Requirement already satisfied: llama-index-multi-modal-llms-openai<0.3.0,>=0.2.0 in d:\\slack-bot\\venv\\lib\\site-packages (from llama-index) (0.2.2)\n",
      "Requirement already satisfied: llama-index-program-openai<0.3.0,>=0.2.0 in d:\\slack-bot\\venv\\lib\\site-packages (from llama-index) (0.2.0)\n",
      "Requirement already satisfied: llama-index-question-gen-openai<0.3.0,>=0.2.0 in d:\\slack-bot\\venv\\lib\\site-packages (from llama-index) (0.2.0)\n",
      "Requirement already satisfied: llama-index-readers-file<0.3.0,>=0.2.0 in d:\\slack-bot\\venv\\lib\\site-packages (from llama-index) (0.2.2)\n",
      "Requirement already satisfied: llama-index-readers-llama-parse>=0.3.0 in d:\\slack-bot\\venv\\lib\\site-packages (from llama-index) (0.3.0)\n",
      "Requirement already satisfied: nltk>3.8.1 in d:\\slack-bot\\venv\\lib\\site-packages (from llama-index) (3.9.1)\n",
      "Requirement already satisfied: openai>=1.14.0 in d:\\slack-bot\\venv\\lib\\site-packages (from llama-index-agent-openai<0.4.0,>=0.3.4->llama-index) (1.51.2)\n",
      "Requirement already satisfied: PyYAML>=6.0.1 in d:\\slack-bot\\venv\\lib\\site-packages (from llama-index-core<0.12.0,>=0.11.17->llama-index) (6.0.2)\n",
      "Requirement already satisfied: SQLAlchemy[asyncio]>=1.4.49 in d:\\slack-bot\\venv\\lib\\site-packages (from llama-index-core<0.12.0,>=0.11.17->llama-index) (2.0.35)\n",
      "Requirement already satisfied: aiohttp<4.0.0,>=3.8.6 in d:\\slack-bot\\venv\\lib\\site-packages (from llama-index-core<0.12.0,>=0.11.17->llama-index) (3.10.10)\n",
      "Requirement already satisfied: dataclasses-json in d:\\slack-bot\\venv\\lib\\site-packages (from llama-index-core<0.12.0,>=0.11.17->llama-index) (0.6.7)\n",
      "Requirement already satisfied: deprecated>=1.2.9.3 in d:\\slack-bot\\venv\\lib\\site-packages (from llama-index-core<0.12.0,>=0.11.17->llama-index) (1.2.14)\n",
      "Requirement already satisfied: dirtyjson<2.0.0,>=1.0.8 in d:\\slack-bot\\venv\\lib\\site-packages (from llama-index-core<0.12.0,>=0.11.17->llama-index) (1.0.8)\n",
      "Requirement already satisfied: fsspec>=2023.5.0 in d:\\slack-bot\\venv\\lib\\site-packages (from llama-index-core<0.12.0,>=0.11.17->llama-index) (2024.9.0)\n",
      "Requirement already satisfied: httpx in d:\\slack-bot\\venv\\lib\\site-packages (from llama-index-core<0.12.0,>=0.11.17->llama-index) (0.27.2)\n",
      "Requirement already satisfied: nest-asyncio<2.0.0,>=1.5.8 in d:\\slack-bot\\venv\\lib\\site-packages (from llama-index-core<0.12.0,>=0.11.17->llama-index) (1.6.0)\n",
      "Requirement already satisfied: networkx>=3.0 in d:\\slack-bot\\venv\\lib\\site-packages (from llama-index-core<0.12.0,>=0.11.17->llama-index) (3.4.1)\n",
      "Requirement already satisfied: numpy<2.0.0 in d:\\slack-bot\\venv\\lib\\site-packages (from llama-index-core<0.12.0,>=0.11.17->llama-index) (1.26.4)\n",
      "Requirement already satisfied: pillow>=9.0.0 in d:\\slack-bot\\venv\\lib\\site-packages (from llama-index-core<0.12.0,>=0.11.17->llama-index) (10.4.0)\n",
      "Requirement already satisfied: pydantic<3.0.0,>=2.7.0 in d:\\slack-bot\\venv\\lib\\site-packages (from llama-index-core<0.12.0,>=0.11.17->llama-index) (2.9.2)\n",
      "Requirement already satisfied: requests>=2.31.0 in d:\\slack-bot\\venv\\lib\\site-packages (from llama-index-core<0.12.0,>=0.11.17->llama-index) (2.32.3)\n",
      "Requirement already satisfied: tenacity!=8.4.0,<9.0.0,>=8.2.0 in d:\\slack-bot\\venv\\lib\\site-packages (from llama-index-core<0.12.0,>=0.11.17->llama-index) (8.5.0)\n",
      "Requirement already satisfied: tiktoken>=0.3.3 in d:\\slack-bot\\venv\\lib\\site-packages (from llama-index-core<0.12.0,>=0.11.17->llama-index) (0.8.0)\n",
      "Requirement already satisfied: tqdm<5.0.0,>=4.66.1 in d:\\slack-bot\\venv\\lib\\site-packages (from llama-index-core<0.12.0,>=0.11.17->llama-index) (4.66.5)\n",
      "Requirement already satisfied: typing-extensions>=4.5.0 in d:\\slack-bot\\venv\\lib\\site-packages (from llama-index-core<0.12.0,>=0.11.17->llama-index) (4.12.2)\n",
      "Requirement already satisfied: typing-inspect>=0.8.0 in d:\\slack-bot\\venv\\lib\\site-packages (from llama-index-core<0.12.0,>=0.11.17->llama-index) (0.9.0)\n",
      "Requirement already satisfied: wrapt in d:\\slack-bot\\venv\\lib\\site-packages (from llama-index-core<0.12.0,>=0.11.17->llama-index) (1.16.0)\n",
      "Requirement already satisfied: llama-cloud>=0.0.11 in d:\\slack-bot\\venv\\lib\\site-packages (from llama-index-indices-managed-llama-cloud>=0.3.0->llama-index) (0.1.2)\n",
      "Requirement already satisfied: pandas in d:\\slack-bot\\venv\\lib\\site-packages (from llama-index-legacy<0.10.0,>=0.9.48->llama-index) (2.2.3)\n",
      "Requirement already satisfied: beautifulsoup4<5.0.0,>=4.12.3 in d:\\slack-bot\\venv\\lib\\site-packages (from llama-index-readers-file<0.3.0,>=0.2.0->llama-index) (4.12.3)\n",
      "Requirement already satisfied: pypdf<5.0.0,>=4.0.1 in d:\\slack-bot\\venv\\lib\\site-packages (from llama-index-readers-file<0.3.0,>=0.2.0->llama-index) (4.3.1)\n",
      "Requirement already satisfied: striprtf<0.0.27,>=0.0.26 in d:\\slack-bot\\venv\\lib\\site-packages (from llama-index-readers-file<0.3.0,>=0.2.0->llama-index) (0.0.26)\n",
      "Requirement already satisfied: llama-parse>=0.5.0 in d:\\slack-bot\\venv\\lib\\site-packages (from llama-index-readers-llama-parse>=0.3.0->llama-index) (0.5.7)\n",
      "Requirement already satisfied: click in d:\\slack-bot\\venv\\lib\\site-packages (from nltk>3.8.1->llama-index) (8.1.7)\n",
      "Requirement already satisfied: joblib in d:\\slack-bot\\venv\\lib\\site-packages (from nltk>3.8.1->llama-index) (1.4.2)\n",
      "Requirement already satisfied: regex>=2021.8.3 in d:\\slack-bot\\venv\\lib\\site-packages (from nltk>3.8.1->llama-index) (2024.9.11)\n",
      "Requirement already satisfied: aiohappyeyeballs>=2.3.0 in d:\\slack-bot\\venv\\lib\\site-packages (from aiohttp<4.0.0,>=3.8.6->llama-index-core<0.12.0,>=0.11.17->llama-index) (2.4.3)\n",
      "Requirement already satisfied: aiosignal>=1.1.2 in d:\\slack-bot\\venv\\lib\\site-packages (from aiohttp<4.0.0,>=3.8.6->llama-index-core<0.12.0,>=0.11.17->llama-index) (1.3.1)\n",
      "Requirement already satisfied: attrs>=17.3.0 in d:\\slack-bot\\venv\\lib\\site-packages (from aiohttp<4.0.0,>=3.8.6->llama-index-core<0.12.0,>=0.11.17->llama-index) (24.2.0)\n",
      "Requirement already satisfied: frozenlist>=1.1.1 in d:\\slack-bot\\venv\\lib\\site-packages (from aiohttp<4.0.0,>=3.8.6->llama-index-core<0.12.0,>=0.11.17->llama-index) (1.4.1)\n",
      "Requirement already satisfied: multidict<7.0,>=4.5 in d:\\slack-bot\\venv\\lib\\site-packages (from aiohttp<4.0.0,>=3.8.6->llama-index-core<0.12.0,>=0.11.17->llama-index) (6.1.0)\n",
      "Requirement already satisfied: yarl<2.0,>=1.12.0 in d:\\slack-bot\\venv\\lib\\site-packages (from aiohttp<4.0.0,>=3.8.6->llama-index-core<0.12.0,>=0.11.17->llama-index) (1.15.2)\n",
      "Requirement already satisfied: soupsieve>1.2 in d:\\slack-bot\\venv\\lib\\site-packages (from beautifulsoup4<5.0.0,>=4.12.3->llama-index-readers-file<0.3.0,>=0.2.0->llama-index) (2.6)\n",
      "Requirement already satisfied: anyio in d:\\slack-bot\\venv\\lib\\site-packages (from httpx->llama-index-core<0.12.0,>=0.11.17->llama-index) (4.6.2)\n",
      "Requirement already satisfied: certifi in d:\\slack-bot\\venv\\lib\\site-packages (from httpx->llama-index-core<0.12.0,>=0.11.17->llama-index) (2024.8.30)\n",
      "Requirement already satisfied: httpcore==1.* in d:\\slack-bot\\venv\\lib\\site-packages (from httpx->llama-index-core<0.12.0,>=0.11.17->llama-index) (1.0.6)\n",
      "Requirement already satisfied: idna in d:\\slack-bot\\venv\\lib\\site-packages (from httpx->llama-index-core<0.12.0,>=0.11.17->llama-index) (3.10)\n",
      "Requirement already satisfied: sniffio in d:\\slack-bot\\venv\\lib\\site-packages (from httpx->llama-index-core<0.12.0,>=0.11.17->llama-index) (1.3.1)\n",
      "Requirement already satisfied: h11<0.15,>=0.13 in d:\\slack-bot\\venv\\lib\\site-packages (from httpcore==1.*->httpx->llama-index-core<0.12.0,>=0.11.17->llama-index) (0.14.0)\n",
      "Requirement already satisfied: distro<2,>=1.7.0 in d:\\slack-bot\\venv\\lib\\site-packages (from openai>=1.14.0->llama-index-agent-openai<0.4.0,>=0.3.4->llama-index) (1.9.0)\n",
      "Requirement already satisfied: jiter<1,>=0.4.0 in d:\\slack-bot\\venv\\lib\\site-packages (from openai>=1.14.0->llama-index-agent-openai<0.4.0,>=0.3.4->llama-index) (0.6.1)\n",
      "Requirement already satisfied: annotated-types>=0.6.0 in d:\\slack-bot\\venv\\lib\\site-packages (from pydantic<3.0.0,>=2.7.0->llama-index-core<0.12.0,>=0.11.17->llama-index) (0.7.0)\n",
      "Requirement already satisfied: pydantic-core==2.23.4 in d:\\slack-bot\\venv\\lib\\site-packages (from pydantic<3.0.0,>=2.7.0->llama-index-core<0.12.0,>=0.11.17->llama-index) (2.23.4)\n",
      "Requirement already satisfied: charset-normalizer<4,>=2 in d:\\slack-bot\\venv\\lib\\site-packages (from requests>=2.31.0->llama-index-core<0.12.0,>=0.11.17->llama-index) (3.4.0)\n",
      "Requirement already satisfied: urllib3<3,>=1.21.1 in d:\\slack-bot\\venv\\lib\\site-packages (from requests>=2.31.0->llama-index-core<0.12.0,>=0.11.17->llama-index) (2.2.3)\n",
      "Requirement already satisfied: greenlet!=0.4.17 in d:\\slack-bot\\venv\\lib\\site-packages (from SQLAlchemy[asyncio]>=1.4.49->llama-index-core<0.12.0,>=0.11.17->llama-index) (3.1.1)\n",
      "Requirement already satisfied: colorama in d:\\slack-bot\\venv\\lib\\site-packages (from tqdm<5.0.0,>=4.66.1->llama-index-core<0.12.0,>=0.11.17->llama-index) (0.4.6)\n",
      "Requirement already satisfied: mypy-extensions>=0.3.0 in d:\\slack-bot\\venv\\lib\\site-packages (from typing-inspect>=0.8.0->llama-index-core<0.12.0,>=0.11.17->llama-index) (1.0.0)\n",
      "Requirement already satisfied: marshmallow<4.0.0,>=3.18.0 in d:\\slack-bot\\venv\\lib\\site-packages (from dataclasses-json->llama-index-core<0.12.0,>=0.11.17->llama-index) (3.22.0)\n",
      "Requirement already satisfied: python-dateutil>=2.8.2 in d:\\slack-bot\\venv\\lib\\site-packages (from pandas->llama-index-legacy<0.10.0,>=0.9.48->llama-index) (2.9.0.post0)\n",
      "Requirement already satisfied: pytz>=2020.1 in d:\\slack-bot\\venv\\lib\\site-packages (from pandas->llama-index-legacy<0.10.0,>=0.9.48->llama-index) (2024.2)\n",
      "Requirement already satisfied: tzdata>=2022.7 in d:\\slack-bot\\venv\\lib\\site-packages (from pandas->llama-index-legacy<0.10.0,>=0.9.48->llama-index) (2024.2)\n",
      "Requirement already satisfied: packaging>=17.0 in d:\\slack-bot\\venv\\lib\\site-packages (from marshmallow<4.0.0,>=3.18.0->dataclasses-json->llama-index-core<0.12.0,>=0.11.17->llama-index) (24.1)\n",
      "Requirement already satisfied: six>=1.5 in d:\\slack-bot\\venv\\lib\\site-packages (from python-dateutil>=2.8.2->pandas->llama-index-legacy<0.10.0,>=0.9.48->llama-index) (1.16.0)\n",
      "Requirement already satisfied: propcache>=0.2.0 in d:\\slack-bot\\venv\\lib\\site-packages (from yarl<2.0,>=1.12.0->aiohttp<4.0.0,>=3.8.6->llama-index-core<0.12.0,>=0.11.17->llama-index) (0.2.0)\n",
      "Note: you may need to restart the kernel to use updated packages.\n"
     ]
    },
    {
     "name": "stderr",
     "output_type": "stream",
     "text": [
      "\n",
      "[notice] A new release of pip is available: 23.2.1 -> 24.2\n",
      "[notice] To update, run: python.exe -m pip install --upgrade pip\n"
     ]
    }
   ],
   "source": [
    "%pip install llama-index\n",
    "%pip install transformers\n",
    "%pip install sentence-transformers\n"
   ]
  },
  {
   "cell_type": "code",
   "execution_count": 3,
   "id": "65d8c77b-1344-449d-a720-be2ca939583e",
   "metadata": {},
   "outputs": [
    {
     "name": "stdout",
     "output_type": "stream",
     "text": [
      "D:\\Slack-Bot\\src\\nbs\n",
      "D:\\Slack-Bot\\src\n",
      "This is pwd   D:\\Slack-Bot\\src\n"
     ]
    }
   ],
   "source": [
    "from setup import init_django"
   ]
  },
  {
   "cell_type": "code",
   "execution_count": 4,
   "id": "febde23c-6139-4ca5-a848-9aedf676ebb7",
   "metadata": {},
   "outputs": [
    {
     "name": "stdout",
     "output_type": "stream",
     "text": [
      "This is pwd   D:\\Slack-Bot\\src\n"
     ]
    }
   ],
   "source": [
    "init_django()"
   ]
  },
  {
   "cell_type": "code",
   "execution_count": 5,
   "id": "67628955-fb19-45be-8a78-5100673c0eca",
   "metadata": {},
   "outputs": [],
   "source": [
    "django_pdf= 'Data\\django.pdf'"
   ]
  },
  {
   "cell_type": "code",
   "execution_count": 6,
   "id": "8a45d1ea-1d56-4ae0-93df-0f4ffd82c221",
   "metadata": {},
   "outputs": [],
   "source": [
    "from llama_index.core import SimpleDirectoryReader, VectorStoreIndex\n",
    "\n",
    "reader = SimpleDirectoryReader(input_files=[django_pdf])\n",
    "\n",
    "data=reader.load_data()"
   ]
  },
  {
   "cell_type": "code",
   "execution_count": 12,
   "id": "c48aece6-f830-4057-b3e7-903c5059f3fc",
   "metadata": {},
   "outputs": [
    {
     "name": "stdout",
     "output_type": "stream",
     "text": [
      "<class 'list'>\n"
     ]
    }
   ],
   "source": [
    "print(type(data[:100]))"
   ]
  },
  {
   "cell_type": "code",
   "execution_count": 1,
   "id": "48c02383-c7a5-408b-a244-1be22cf93301",
   "metadata": {},
   "outputs": [
    {
     "name": "stderr",
     "output_type": "stream",
     "text": [
      "D:\\Slack-Bot\\venv\\Lib\\site-packages\\sentence_transformers\\cross_encoder\\CrossEncoder.py:13: TqdmExperimentalWarning: Using `tqdm.autonotebook.tqdm` in notebook mode. Use `tqdm.tqdm` instead to force console mode (e.g. in jupyter console)\n",
      "  from tqdm.autonotebook import tqdm, trange\n"
     ]
    }
   ],
   "source": [
    "from sentence_transformers import SentenceTransformer\n",
    "import numpy as np\n",
    "\n",
    "def get_embeddings(text_list):\n",
    "    \"\"\"\n",
    "    This function takes a list of text and returns the corresponding embeddings using the all-MiniLM-L6-v2 model.\n",
    "    \n",
    "    Args:\n",
    "        text_list (list of str): List of sentences or paragraphs to embed.\n",
    "    \n",
    "    Returns:\n",
    "        embeddings (list of np.array): List of embeddings for each input text.\n",
    "    \"\"\"\n",
    "    # Load the MiniLM-L6-v2 model\n",
    "    model = SentenceTransformer('sentence-transformers/all-MiniLM-L6-v2')\n",
    "    \n",
    "    # Generate embeddings for the list of texts\n",
    "    embeddings = model.encode(text_list, convert_to_tensor=True)\n",
    "    \n",
    "    return embeddings\n"
   ]
  },
  {
   "cell_type": "code",
   "execution_count": 13,
   "id": "38b5667d-a44d-4da8-b9ef-30fdd5855d4d",
   "metadata": {},
   "outputs": [
    {
     "data": {
      "text/plain": [
       "tensor([[-0.0654, -0.0745,  0.0579,  ...,  0.0363,  0.0323,  0.0647],\n",
       "        [-0.1188,  0.0483, -0.0025,  ...,  0.1264,  0.0465, -0.0157],\n",
       "        [-0.0884,  0.0132,  0.0050,  ...,  0.0871,  0.0853,  0.0635],\n",
       "        ...,\n",
       "        [ 0.0065, -0.0414, -0.0041,  ...,  0.0857, -0.0248,  0.0188],\n",
       "        [-0.0149, -0.0470,  0.0118,  ...,  0.0281,  0.0060, -0.0080],\n",
       "        [-0.0472,  0.0163,  0.0454,  ...,  0.0189,  0.0017,  0.0484]])"
      ]
     },
     "execution_count": 13,
     "metadata": {},
     "output_type": "execute_result"
    }
   ],
   "source": [
    "text_list = [doc.text for doc in data]\n",
    "get_embeddings(text_list)"
   ]
  }
 ],
 "metadata": {
  "kernelspec": {
   "display_name": "Python 3 (ipykernel)",
   "language": "python",
   "name": "python3"
  },
  "language_info": {
   "codemirror_mode": {
    "name": "ipython",
    "version": 3
   },
   "file_extension": ".py",
   "mimetype": "text/x-python",
   "name": "python",
   "nbconvert_exporter": "python",
   "pygments_lexer": "ipython3",
   "version": "3.11.5"
  }
 },
 "nbformat": 4,
 "nbformat_minor": 5
}
