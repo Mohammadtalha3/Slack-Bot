{
 "cells": [
  {
   "cell_type": "code",
   "execution_count": 1,
   "id": "65d8c77b-1344-449d-a720-be2ca939583e",
   "metadata": {},
   "outputs": [
    {
     "name": "stdout",
     "output_type": "stream",
     "text": [
      "D:\\Slack-Bot\\src\\nbs\n",
      "D:\\Slack-Bot\\src\n",
      "This is pwd   D:\\Slack-Bot\\src\n"
     ]
    }
   ],
   "source": [
    "from setup import init_django"
   ]
  },
  {
   "cell_type": "code",
   "execution_count": 2,
   "id": "8fcead71-f626-4e0f-bc58-44c5541b2e7e",
   "metadata": {},
   "outputs": [
    {
     "data": {
      "text/plain": [
       "'D:\\\\Slack-Bot\\\\src'"
      ]
     },
     "execution_count": 2,
     "metadata": {},
     "output_type": "execute_result"
    }
   ],
   "source": [
    "pwd"
   ]
  },
  {
   "cell_type": "code",
   "execution_count": 3,
   "id": "febde23c-6139-4ca5-a848-9aedf676ebb7",
   "metadata": {},
   "outputs": [
    {
     "name": "stdout",
     "output_type": "stream",
     "text": [
      "This is pwd   D:\\Slack-Bot\\src\n"
     ]
    }
   ],
   "source": [
    "init_django()"
   ]
  },
  {
   "cell_type": "code",
   "execution_count": 4,
   "id": "f88b99e2-d48c-45d2-a6ae-333a49b5c1aa",
   "metadata": {},
   "outputs": [
    {
     "data": {
      "text/plain": [
       "'D:\\\\Slack-Bot\\\\src'"
      ]
     },
     "execution_count": 4,
     "metadata": {},
     "output_type": "execute_result"
    }
   ],
   "source": [
    "pwd"
   ]
  },
  {
   "cell_type": "code",
   "execution_count": 5,
   "id": "6ee3551d-8110-4736-bff2-ba0a760d5507",
   "metadata": {},
   "outputs": [],
   "source": [
    "from django.conf import settings"
   ]
  },
  {
   "cell_type": "code",
   "execution_count": 6,
   "id": "4430efd4-6613-4770-b075-9a21b278dbc2",
   "metadata": {},
   "outputs": [
    {
     "data": {
      "text/plain": [
       "WindowsPath('D:/Slack-Bot/src')"
      ]
     },
     "execution_count": 6,
     "metadata": {},
     "output_type": "execute_result"
    }
   ],
   "source": [
    "settings.BASE_DIR"
   ]
  },
  {
   "cell_type": "code",
   "execution_count": null,
   "id": "67628955-fb19-45be-8a78-5100673c0eca",
   "metadata": {},
   "outputs": [],
   "source": []
  }
 ],
 "metadata": {
  "kernelspec": {
   "display_name": "Python 3 (ipykernel)",
   "language": "python",
   "name": "python3"
  },
  "language_info": {
   "codemirror_mode": {
    "name": "ipython",
    "version": 3
   },
   "file_extension": ".py",
   "mimetype": "text/x-python",
   "name": "python",
   "nbconvert_exporter": "python",
   "pygments_lexer": "ipython3",
   "version": "3.11.5"
  }
 },
 "nbformat": 4,
 "nbformat_minor": 5
}
